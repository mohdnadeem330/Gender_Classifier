{
 "cells": [
  {
   "cell_type": "code",
   "execution_count": 3,
   "metadata": {},
   "outputs": [],
   "source": [
    "#Importing the dependencies\n",
    "from sklearn import tree\n",
    "from sklearn.svm import SVC\n",
    "from sklearn.linear_model import Perceptron\n",
    "from sklearn.neighbors import KNeighborsClassifier\n",
    "from sklearn.metrics import accuracy_score\n",
    "import numpy as np"
   ]
  },
  {
   "cell_type": "code",
   "execution_count": 4,
   "metadata": {},
   "outputs": [],
   "source": [
    "# Data and Labels\n",
    "X = [[181, 80, 44], [177, 70, 43], [160, 60, 38], [154, 54, 37], [166, 65, 40], [190, 90, 47], [175, 64, 39],\n",
    "     [177, 70, 40], [159, 55, 37], [171, 75, 42], [181, 85, 43]]\n",
    "\n",
    "Y = ['male', 'male', 'female', 'female', 'male', 'male', 'female', 'female', 'female', 'male', 'male']\n"
   ]
  },
  {
   "cell_type": "code",
   "execution_count": 6,
   "metadata": {},
   "outputs": [],
   "source": [
    "#Classifiers\n",
    "#Using the default values for all hyperparameters\n",
    "clf_tree = tree.DecisionTreeClassifier()\n",
    "clf_svm = SVC()\n",
    "clf_perceptron = Perceptron()\n",
    "clf_KNN =  KNeighborsClassifier()"
   ]
  },
  {
   "cell_type": "code",
   "execution_count": 9,
   "metadata": {},
   "outputs": [
    {
     "name": "stderr",
     "output_type": "stream",
     "text": [
      "/anaconda3/lib/python3.6/site-packages/sklearn/linear_model/stochastic_gradient.py:128: FutureWarning: max_iter and tol parameters have been added in <class 'sklearn.linear_model.perceptron.Perceptron'> in 0.19. If both are left unset, they default to max_iter=5 and tol=None. If tol is not None, max_iter defaults to max_iter=1000. From 0.21, default max_iter will be 1000, and default tol will be 1e-3.\n",
      "  \"and default tol will be 1e-3.\" % type(self), FutureWarning)\n"
     ]
    },
    {
     "data": {
      "text/plain": [
       "KNeighborsClassifier(algorithm='auto', leaf_size=30, metric='minkowski',\n",
       "           metric_params=None, n_jobs=1, n_neighbors=5, p=2,\n",
       "           weights='uniform')"
      ]
     },
     "execution_count": 9,
     "metadata": {},
     "output_type": "execute_result"
    }
   ],
   "source": [
    "#Trainig the models\n",
    "clf_tree.fit(X,Y)\n",
    "clf_svm.fit(X,Y)\n",
    "clf_perceptron.fit(X,Y)\n",
    "clf_KNN.fit(X,Y)"
   ]
  },
  {
   "cell_type": "code",
   "execution_count": 12,
   "metadata": {},
   "outputs": [
    {
     "name": "stdout",
     "output_type": "stream",
     "text": [
      "Accuracy for DecisionTree: 100.0\n"
     ]
    }
   ],
   "source": [
    "#Testing using the same data \n",
    "pred_tree = clf_tree.predict(X)\n",
    "acc_tree = accuracy_score(Y,pred_tree)  * 100\n",
    "print('Accuracy for DecisionTree: {}'.format(acc_tree))"
   ]
  },
  {
   "cell_type": "code",
   "execution_count": 13,
   "metadata": {},
   "outputs": [
    {
     "name": "stdout",
     "output_type": "stream",
     "text": [
      "Accuracy for DecisionTree: 100.0\n"
     ]
    }
   ],
   "source": [
    "pred_svm = clf_svm.predict(X)\n",
    "acc_svm = accuracy_score(Y,pred_tree)  * 100\n",
    "print('Accuracy for DecisionTree: {}'.format(acc_svm))"
   ]
  },
  {
   "cell_type": "code",
   "execution_count": 14,
   "metadata": {},
   "outputs": [
    {
     "name": "stdout",
     "output_type": "stream",
     "text": [
      "Accuracy for DecisionTree: 100.0\n"
     ]
    }
   ],
   "source": [
    "pred_per = clf_perceptron.predict(X)\n",
    "acc_per = accuracy_score(Y,pred_tree)  * 100\n",
    "print('Accuracy for DecisionTree: {}'.format(acc_per))"
   ]
  },
  {
   "cell_type": "code",
   "execution_count": 15,
   "metadata": {},
   "outputs": [
    {
     "name": "stdout",
     "output_type": "stream",
     "text": [
      "Accuracy for KNN: 72.72727272727273\n"
     ]
    }
   ],
   "source": [
    "pred_KNN = clf_KNN.predict(X)\n",
    "acc_KNN = accuracy_score(Y, pred_KNN) * 100\n",
    "print('Accuracy for KNN: {}'.format(acc_KNN))"
   ]
  },
  {
   "cell_type": "code",
   "execution_count": 17,
   "metadata": {},
   "outputs": [
    {
     "name": "stdout",
     "output_type": "stream",
     "text": [
      "Best Classifier is:SVM\n"
     ]
    }
   ],
   "source": [
    "#The best classifier from SVM, DT, Per, KNN\n",
    "index = np.argmax([acc_svm, acc_per, acc_KNN])\n",
    "classifier = {0:'SVM' ,1: 'Perceptron', 2:'KNN'}\n",
    "print('Best Classifier is:{}'.format(classifier[index]))"
   ]
  },
  {
   "cell_type": "code",
   "execution_count": null,
   "metadata": {},
   "outputs": [],
   "source": []
  }
 ],
 "metadata": {
  "kernelspec": {
   "display_name": "Python 3",
   "language": "python",
   "name": "python3"
  },
  "language_info": {
   "codemirror_mode": {
    "name": "ipython",
    "version": 3
   },
   "file_extension": ".py",
   "mimetype": "text/x-python",
   "name": "python",
   "nbconvert_exporter": "python",
   "pygments_lexer": "ipython3",
   "version": "3.6.5"
  }
 },
 "nbformat": 4,
 "nbformat_minor": 2
}
